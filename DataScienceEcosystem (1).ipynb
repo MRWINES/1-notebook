{
 "cells": [
  {
   "cell_type": "markdown",
   "id": "089b9942-884f-4c2f-b5a5-ea82dde67fa3",
   "metadata": {},
   "source": [
    "# Data Science Tools and Ecosystem"
   ]
  },
  {
   "cell_type": "markdown",
   "id": "0131af65-da44-4e51-a95d-1ab418de69eb",
   "metadata": {},
   "source": [
    "## Introduction\n",
    "In this notebook, we will explore basic concepts of Data Science using Python. We will present examples of arithmetic operations, popular libraries, and a table of commonly used tools in the industry."
   ]
  },
  {
   "cell_type": "markdown",
   "id": "d71d887d-c604-4c6b-8e2c-efca45b7b2f3",
   "metadata": {},
   "source": [
    "## Objectives\n",
    "\n",
    "- List popular languages for Data Science.  \n",
    "- Discuss commonly used libraries for Data Science.  \n",
    "- Create tables with Data Science tools.  \n",
    "- Write simple arithmetic expressions.  \n",
    "- Upload notebook to GitHub.  \n"
   ]
  },
  {
   "cell_type": "markdown",
   "id": "4f1d7d05-cde3-4aa0-b5c7-9a1f96753ac8",
   "metadata": {
    "jp-MarkdownHeadingCollapsed": true
   },
   "source": [
    "## Data Science Languages\n",
    "Some of the most commonly used languages in Data Science are:\n",
    "\n",
    "1. Python\n",
    "2. R\n",
    "3. SQL\n",
    "4. Julia\n",
    "5. Scala"
   ]
  },
  {
   "cell_type": "markdown",
   "id": "eabe70e4-8414-4e17-ab25-ae8efa4833da",
   "metadata": {},
   "source": [
    "## Data Science Libraries\n",
    "Here are some of the most popular libraries for Data Science in Python:\n",
    "\n",
    "- Pandas\n",
    "- NumPy\n",
    "- Matplotlib\n",
    "- Scikit-learn\n",
    "- TensorFlow\n",
    "- PyTorch"
   ]
  },
  {
   "cell_type": "markdown",
   "id": "02557e3b-0c85-4f68-9c78-b60803a346c7",
   "metadata": {},
   "source": [
    "## Data Science Tools\n",
    "\n",
    "| Tool          | Description                               |\n",
    "|---------------|-------------------------------------------|\n",
    "| Jupyter       | Interactive environment for notebooks.   |\n",
    "| RStudio       | IDE for R.                                |\n",
    "| Apache Spark  | Distributed analytics engine.            |\n",
    "| TensorFlow    | Machine Learning library.                |\n",
    "| Apache Hadoop | Framework for Big Data processing.       |"
   ]
  },
  {
   "cell_type": "markdown",
   "id": "d38e9829-5079-4066-859f-02ec4aa7516a",
   "metadata": {},
   "source": [
    "## Examples of Arithmetic Expressions\n",
    "Below are some basic examples of arithmetic operations:\n",
    "\n",
    "- Addition: 2 + 3 = 5\n",
    "- Subtraction: 7 - 4 = 3\n",
    "- Multiplication: 6 * 8 = 48\n",
    "- Division: 10 / 2 = 5\n"
   ]
  },
  {
   "cell_type": "code",
   "execution_count": 23,
   "id": "f617df19-f0cb-4a49-ab5c-3728722521d0",
   "metadata": {},
   "outputs": [
    {
     "data": {
      "text/plain": [
       "17"
      ]
     },
     "execution_count": 23,
     "metadata": {},
     "output_type": "execute_result"
    }
   ],
   "source": [
    "# This is a simple arithmetic expression to multiply then add integers.\n",
    "(3 * 4) + 5\n"
   ]
  },
  {
   "cell_type": "code",
   "execution_count": 25,
   "id": "e0b6051d-9600-4ed2-9852-fa6e80cdabff",
   "metadata": {},
   "outputs": [
    {
     "data": {
      "text/plain": [
       "3.3333333333333335"
      ]
     },
     "execution_count": 25,
     "metadata": {},
     "output_type": "execute_result"
    }
   ],
   "source": [
    "# This will convert 200 minutes to hours by dividing by 60.\n",
    "minutes = 200\n",
    "hours = minutes / 60\n",
    "hours\n"
   ]
  },
  {
   "cell_type": "markdown",
   "id": "50b09f24-9605-462f-92fc-804e6317bd5f",
   "metadata": {},
   "source": [
    "## Author  \n",
    "Ignacio Alvarez \n"
   ]
  }
 ],
 "metadata": {
  "kernelspec": {
   "display_name": "Python [conda env:base] *",
   "language": "python",
   "name": "conda-base-py"
  },
  "language_info": {
   "codemirror_mode": {
    "name": "ipython",
    "version": 3
   },
   "file_extension": ".py",
   "mimetype": "text/x-python",
   "name": "python",
   "nbconvert_exporter": "python",
   "pygments_lexer": "ipython3",
   "version": "3.12.7"
  }
 },
 "nbformat": 4,
 "nbformat_minor": 5
}
